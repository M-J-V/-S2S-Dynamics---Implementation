{
 "cells": [
  {
   "cell_type": "code",
   "execution_count": 1,
   "metadata": {},
   "outputs": [],
   "source": [
    "import numpy as np\n",
    "import matplotlib.pyplot as plt\n",
    "import math"
   ]
  },
  {
   "cell_type": "code",
   "execution_count": 90,
   "metadata": {},
   "outputs": [],
   "source": [
    "n = 2\n",
    "m = 2\n",
    "x = np.array([-1/2, -1/6])\n",
    "y = np.array([1/4, 1/30])"
   ]
  },
  {
   "cell_type": "code",
   "execution_count": 3,
   "metadata": {},
   "outputs": [],
   "source": [
    "beta_1m = 1\n",
    "beta_2m = 1\n",
    "alpha_m = 1"
   ]
  },
  {
   "cell_type": "code",
   "execution_count": 91,
   "metadata": {},
   "outputs": [
    {
     "data": {
      "text/plain": [
       "(array([1.40441705, 0.02208055]),\n",
       " array([ 0.0047783 , -0.08436851]),\n",
       " array([-1.41492208,  0.74269956]))"
      ]
     },
     "execution_count": 91,
     "metadata": {},
     "output_type": "execute_result"
    }
   ],
   "source": [
    "a = np.random.normal(loc=0, scale=beta_1m**2, size=(m))\n",
    "w = np.random.normal(loc=0, scale=beta_2m**2, size=(m))\n",
    "b = np.random.normal(loc=0, scale=beta_2m**2, size=(m))\n",
    "\n",
    "a,w,b"
   ]
  },
  {
   "cell_type": "code",
   "execution_count": 75,
   "metadata": {},
   "outputs": [],
   "source": [
    "def relu(x):\n",
    "    return np.maximum(0, x)\n",
    "\n",
    "def indicator(condition):\n",
    "    return condition.astype(int)"
   ]
  },
  {
   "cell_type": "code",
   "execution_count": 84,
   "metadata": {},
   "outputs": [],
   "source": [
    "def gradient_flow(a,w,b):\n",
    "    grad_a = -(1/n) * np.sum([[(1/alpha_m) * relu((w*x[i])+b) * gradRiskwrtFunction(a,w,b,i)] for i in range(n)], axis=0)\n",
    "    grad_w = -(1/n) * np.sum([[(1/alpha_m) * a*x[i] * indicator(w*x[i]+b > 0) * gradRiskwrtFunction(a,w,b,i)] for i in range(n)], axis=0)\n",
    "    grad_b = -(1/n) * np.sum([[(1/alpha_m) * a * indicator(w*x[i]+b > 0) * gradRiskwrtFunction(a,w,b,i)] for i in range(n)], axis=0)\n",
    "    return grad_a, grad_w, grad_b\n",
    "\n",
    "def gradRiskwrtFunction(a,w,b,i):\n",
    "    return 1/alpha_m * np.sum([[a[j] * relu((w[j]*x[i])+b[j]) - y[i]] for j in range(m)], axis=0)\n"
   ]
  },
  {
   "cell_type": "code",
   "execution_count": 92,
   "metadata": {},
   "outputs": [
    {
     "data": {
      "text/plain": [
       "(array([[-0.        ,  0.20832241]]),\n",
       " array([[-0.        , -0.00275632]]),\n",
       " array([[-0.        ,  0.00588034]]))"
      ]
     },
     "execution_count": 92,
     "metadata": {},
     "output_type": "execute_result"
    }
   ],
   "source": [
    "gradient_flow(a,w,b)"
   ]
  },
  {
   "cell_type": "code",
   "execution_count": null,
   "metadata": {},
   "outputs": [],
   "source": []
  }
 ],
 "metadata": {
  "kernelspec": {
   "display_name": "Python 3",
   "language": "python",
   "name": "python3"
  },
  "language_info": {
   "codemirror_mode": {
    "name": "ipython",
    "version": 3
   },
   "file_extension": ".py",
   "mimetype": "text/x-python",
   "name": "python",
   "nbconvert_exporter": "python",
   "pygments_lexer": "ipython3",
   "version": "3.10.0"
  }
 },
 "nbformat": 4,
 "nbformat_minor": 2
}
