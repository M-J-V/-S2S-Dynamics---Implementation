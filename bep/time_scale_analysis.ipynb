{
 "cells": [
  {
   "cell_type": "code",
   "execution_count": 32,
   "metadata": {},
   "outputs": [],
   "source": [
    "import numpy as np\n",
    "import matplotlib.pyplot as plt\n",
    "import matplotlib.cm as cm\n",
    "import math\n",
    "import inspect\n",
    "from ipywidgets import interact, IntSlider, Dropdown, VBox, Output"
   ]
  },
  {
   "cell_type": "markdown",
   "metadata": {},
   "source": [
    "#### Simple paramters and data points"
   ]
  },
  {
   "cell_type": "code",
   "execution_count": 33,
   "metadata": {},
   "outputs": [],
   "source": [
    "n = 4\n",
    "x = np.array([-1/2, -1/6, 1/6, 1/2])\n",
    "y = np.array([1/4, 1/30, 1/30, 1/4])"
   ]
  },
  {
   "cell_type": "markdown",
   "metadata": {},
   "source": [
    "#### Helper Functions"
   ]
  },
  {
   "cell_type": "code",
   "execution_count": 34,
   "metadata": {},
   "outputs": [],
   "source": [
    "def relu(x):\n",
    "    return np.maximum(0, x)\n",
    "\n",
    "def indicator(condition):\n",
    "    return condition.astype(int)"
   ]
  },
  {
   "cell_type": "markdown",
   "metadata": {},
   "source": [
    "#### 2-layer ReLU neural network\n",
    "\n",
    "$ f_m(x;\\theta) = \\frac{1}{\\alpha_m} \\sum_{j=1}^m a_j(w_j x + b_j)_{+}$"
   ]
  },
  {
   "cell_type": "code",
   "execution_count": 35,
   "metadata": {},
   "outputs": [],
   "source": [
    "# 2-Lyaer ReLu Neural Network\n",
    "def twoLayerReluNet(alpha_m, a, w, b, x):\n",
    "    return 1/alpha_m * np.sum(a * relu(w * x + b))\n",
    "\n",
    "def network_risk(alpha_m, a, w, b, x, y):\n",
    "    # Compute wx_plus_b for all i and j\n",
    "    wx_plus_b = np.outer(x,w) + b  # Shape: (n, m)\n",
    "\n",
    "    # Apply ReLU\n",
    "    relu_mask = (wx_plus_b > 0).astype(float)  # Shape: (n, m)\n",
    "    relu = wx_plus_b * relu_mask  # Apply the mask\n",
    "\n",
    "      # Shape: (n,)\n",
    "    return np.mean((1/2)*((np.sum(a * relu, axis=1) / alpha_m) - y) ** 2)"
   ]
  },
  {
   "cell_type": "markdown",
   "metadata": {},
   "source": [
    "#### Initialisation of weights\n",
    "\n",
    "$a_j^0 \\sim \\mathcal{N}(0,\\beta^2_{1m})$ and $b_j^0, w_j^0 \\sim \\mathcal{N}(0,\\beta^2_{2m})$\n",
    "\n",
    "through normalisation we define\n",
    "\n",
    "$\\kappa := \\frac{\\beta_{1m} \\beta_{2m}}{\\alpha_m}$, $\\kappa' := \\frac{\\beta_{1m}}{\\beta_{2m}}$\n",
    "\n",
    "and\n",
    "\n",
    "$\\gamma := \\lim_{m \\rightarrow \\infty} \\frac{\\log{\\kappa}}{\\log{m}}$, $\\gamma' := \\lim_{m \\rightarrow \\infty} \\frac{\\log{\\kappa'}}{\\log{m}}$\n",
    "\n",
    "We take that parameters $a_m, \\beta_{1m}, \\beta_{2m}$ are taken to have a power-law relation to $m$ and so we are able to choose $\\gamma$ and $\\gamma'$ such that the $a$-lag training regime is used.\n",
    "\n",
    "<small>  T. Luo, Z.-Q. J. Xu, Z. Ma, and Y. Zhang. Phase diagram for two-layer relu neu\n",
    "ral networks at innite-width limit . In: Journal of Machine Learning Research 22.71\n",
    " (2021), pp. 147.</small>\n",
    "\n",
    "<small>  Z.Chen,Y.Li,T.Luo,Z.Zhou,andZ.-Q. J. Xu. Phase diagram of initial condensation\n",
    " for two-layer neural networks . In: arXiv preprint arXiv:2303.06561 (2023).</small>"
   ]
  },
  {
   "cell_type": "code",
   "execution_count": 36,
   "metadata": {},
   "outputs": [],
   "source": [
    "## We use the following to fix the values of gamma, gamma_prime and alpha_m\n",
    "gamma = 3/2\n",
    "gamma_prime = -1/2\n",
    "\n",
    "def generate_alpha_betas(m):\n",
    "    alpha_m = m**(gamma - gamma_prime)\n",
    "    kappa = m**(-gamma)\n",
    "    kappa_prime = m**(-gamma_prime)\n",
    "\n",
    "    beta_1m = math.sqrt(kappa*kappa_prime*alpha_m)\n",
    "    beta_2m = math.sqrt((kappa/kappa_prime)*alpha_m)\n",
    "\n",
    "    return alpha_m, beta_1m, beta_2m"
   ]
  },
  {
   "cell_type": "markdown",
   "metadata": {},
   "source": [
    "#### Gradient flow\n",
    "\n",
    "Empirical Risk equation - $\\mathcal{R}(\\theta) := \\frac{1}{2n} \\sum_{i=1}^m (f_m(x_i; \\theta) - y_i)^2$"
   ]
  },
  {
   "cell_type": "code",
   "execution_count": 37,
   "metadata": {},
   "outputs": [],
   "source": [
    "## Typical parameter gradients\n",
    "def gradient_flow(a,w,b,alpha_m):\n",
    "    # Compute wx_plus_b for all i and j\n",
    "    wx_plus_b = np.outer(x,w) + b  # Shape: (n, m)\n",
    "\n",
    "    # Apply ReLU activation\n",
    "    relu_mask = (wx_plus_b > 0).astype(float)  # Shape: (n, m)\n",
    "    relu = wx_plus_b * relu_mask  # Apply the mask\n",
    "\n",
    "    # First term inside parentheses: (1 / alpha_m) * sum_j(a_j * ReLU_j)\n",
    "    term2 = (np.sum(a * relu, axis=1) / alpha_m) - y  # Shape: (n,)\n",
    "\n",
    "    # Full sum: sum relu multiplied with appropriate term2, over i\n",
    "    full_sum_a = np.sum(relu * term2[:, np.newaxis], axis=0)  # Shape: (m,)\n",
    "\n",
    "    # Multiply by aj * xi * 1{wx_plus_b > 0}\n",
    "    term1_w = (a * x[:, np.newaxis] * relu_mask)  # Shape: (n, m)\n",
    "    # Full sum: sum term1_w multiplied with appropriate term2, over i\n",
    "    full_sum_w = np.sum(term1_w * term2[:, np.newaxis], axis=0)  # Shape: (m,)\n",
    "\n",
    "    # Multiply by aj * 1{wx_plus_b > 0}\n",
    "    term1_b = (a * relu_mask)  # Shape: (n, m)\n",
    "    # Full sum: sum term1_b multiplied with appropriate term2, over i\n",
    "    full_sum_b = np.sum(term1_b * term2[:, np.newaxis], axis=0)  # Shape: (m,)\n",
    "\n",
    "    # Scale by constants\n",
    "    grad_a = -full_sum_a / (n * alpha_m)  # Final shape: (m,)\n",
    "    grad_w = -full_sum_w / (n * alpha_m)  # Final shape: (m,)\n",
    "    grad_b = -full_sum_b / (n * alpha_m)  # Final shape: (m,)\n",
    "\n",
    "    return grad_a, grad_w, grad_b"
   ]
  },
  {
   "cell_type": "markdown",
   "metadata": {},
   "source": [
    "Gradient Descent training"
   ]
  },
  {
   "cell_type": "code",
   "execution_count": 38,
   "metadata": {},
   "outputs": [],
   "source": [
    "def gradient_descent(step_size, steps, m, symmetric=False):\n",
    "\n",
    "    alpha_m, beta_1m, beta_2m = generate_alpha_betas(m)\n",
    "\n",
    "    m_len = math.ceil(m / 2) if symmetric else math.ceil(m)    \n",
    "\n",
    "    a = np.random.normal(loc=0, scale=beta_1m, size=m_len)\n",
    "    w = np.random.normal(loc=0, scale=beta_2m, size=m_len)\n",
    "    b = np.random.normal(loc=0, scale=beta_2m, size=m_len)\n",
    "\n",
    "    if symmetric:\n",
    "        a = np.concatenate((a, a))\n",
    "        w = np.concatenate((w, -w))\n",
    "        b = np.concatenate((b, b))\n",
    "\n",
    "    a_values = []\n",
    "    w_values = []\n",
    "    b_values = []\n",
    "\n",
    "    #for n in range(math.ceil(time/step_size)):\n",
    "    for n in range(steps): \n",
    "        grad_a, grad_w, grad_b = gradient_flow(a,w,b,alpha_m)\n",
    "        a = a + step_size * grad_a\n",
    "        w = w + step_size * grad_w\n",
    "        b = b + step_size * grad_b\n",
    "\n",
    "        # Save the current values of a, w, and b\n",
    "        a_values.append(a.copy())\n",
    "        w_values.append(w.copy())\n",
    "        b_values.append(b.copy())\n",
    "\n",
    "    return a_values, w_values, b_values\n",
    "\n"
   ]
  },
  {
   "cell_type": "markdown",
   "metadata": {},
   "source": [
    "#### Training"
   ]
  },
  {
   "cell_type": "code",
   "execution_count": 39,
   "metadata": {},
   "outputs": [],
   "source": [
    "def train(m_values, n_steps, learning_rate):\n",
    "    for m in m_values:\n",
    "        a_values, w_values, b_values = gradient_descent(learning_rate, n_steps, m, True)\n",
    "\n",
    "        # Convert lists to arrays for easier saving and plotting\n",
    "        a_values = np.array(a_values)\n",
    "        w_values = np.array(w_values)\n",
    "        b_values = np.array(b_values)\n",
    "\n",
    "        # Save the arrays to disk\n",
    "        np.save('weights\\\\a_values_m%d_Learning%d_Steps%d.npy' % (m, learning_rate, n_steps), a_values)\n",
    "        np.save('weights\\\\w_values_m%d_Learning%d_Steps%d.npy' % (m, learning_rate, n_steps), w_values)\n",
    "        np.save('weights\\\\b_values_m%d_Learning%d_Steps%d.npy' % (m, learning_rate, n_steps), b_values)\n",
    "\n",
    "        print(f'Completed training for steps: {n_steps}, learning rate: {learning_rate}, m value: {m}')"
   ]
  },
  {
   "cell_type": "markdown",
   "metadata": {},
   "source": [
    "Code Cell generating min and max y values over time"
   ]
  },
  {
   "cell_type": "code",
   "execution_count": 40,
   "metadata": {},
   "outputs": [],
   "source": [
    "# Define the function to plot the values at a given index\n",
    "def get_values(x_graph, a_vals, w_vals, b_vals, alpha_m, index):\n",
    "    a = a_vals[index]\n",
    "    w = w_vals[index]\n",
    "    b = b_vals[index]\n",
    "    \n",
    "    y_graph = np.zeros((int)(400)) # TODO: Try to remove this, initialising it each time is slow\n",
    "\n",
    "    # Compute the corresponding y values\n",
    "    for i in range(len(x_graph)):\n",
    "        y_graph[i] = twoLayerReluNet(alpha_m,a,w,b,x_graph[i])\n",
    "\n",
    "    return np.min(y_graph), np.max(y_graph)\n",
    "\n",
    "def generate_y_max_min_plot(m_values, n_steps, learning_rate, scaling_func):\n",
    "\n",
    "    scale_text = inspect.getsource(scaling_func).strip()\n",
    "    scale_text = scale_text[scale_text.find(\":\")+2:-1]\n",
    "\n",
    "    # There could be too many points, so we only take every index_refinment points when needed to increase speed\n",
    "    # About 1 minute for 200k steps, refinement of 50 and m_values = [200, 400, 600, 800, 1000]\n",
    "    index_refinment = 25\n",
    "\n",
    "    # x values for the graph\n",
    "    x_graph = np.linspace(-0.5, 0.5, 400)\n",
    "\n",
    "    # Create an array of indices\n",
    "    indices = np.arange(n_steps/index_refinment)\n",
    "\n",
    "    # Generate a colormap\n",
    "    colormap = cm.get_cmap('viridis', len(m_values))\n",
    "\n",
    "    plt.figure(figsize=(10, 6))\n",
    "\n",
    "    for idx, m in enumerate(m_values):\n",
    "        # Load the arrays from disk\n",
    "        a_values = np.load('weights\\\\a_values_m%d_Learning%d_Steps%d.npy' % (m, learning_rate, n_steps))\n",
    "        w_values = np.load('weights\\\\w_values_m%d_Learning%d_Steps%d.npy' % (m, learning_rate, n_steps))\n",
    "        b_values = np.load('weights\\\\b_values_m%d_Learning%d_Steps%d.npy' % (m, learning_rate, n_steps))\n",
    "\n",
    "        alpha_m = generate_alpha_betas(m)[0]\n",
    "\n",
    "        min_y_values = np.zeros((int)(n_steps/index_refinment))\n",
    "        max_y_values = np.zeros((int)(n_steps/index_refinment))\n",
    "        # Load min and max values obtained by graph at index\n",
    "        for n in range((int)(n_steps/index_refinment)):\n",
    "            min_y_values[n], max_y_values[n] = get_values(x_graph, a_values, w_values, b_values, alpha_m, n*index_refinment)\n",
    "\n",
    "        # Plot the min and max values\n",
    "        plt.plot(indices*scaling_func(m), min_y_values, color=colormap(idx))\n",
    "        plt.plot(indices*scaling_func(m), max_y_values, color=colormap(idx))\n",
    "\n",
    "        # Attach label\n",
    "        plt.plot([], [], color=colormap(idx), label=f'm = {m}')\n",
    "\n",
    "    filename = f'YMinMax_m{m}_Learning{learning_rate}_Steps{n_steps}_Scale{scale_text}.svg'\n",
    "\n",
    "    # Sanitize the file name by replacing invalid characters\n",
    "    invalid_chars = ['/', '\\\\', ':', '*', '?', '\"', '<', '>', '|']\n",
    "    for char in invalid_chars:\n",
    "        filename = filename.replace(char, \"_\")\n",
    "\n",
    "    plt.xscale('log')\n",
    "    plt.xlabel(f'Index x{index_refinment} with scaling {scale_text}')\n",
    "    plt.ylabel('y values')\n",
    "    plt.title('Min and Max y values at index') # TODO: Recheck the text for labels and title\n",
    "    plt.legend()\n",
    "    plt.grid(True)\n",
    "    plt.savefig('figs\\\\'+filename)\n",
    "    plt.show()\n",
    "    print(f'Completed plotting for steps: {n_steps}, learning rate: {learning_rate}, m values: {m_values}, rescale: {scale_text}')"
   ]
  },
  {
   "cell_type": "code",
   "execution_count": 41,
   "metadata": {},
   "outputs": [],
   "source": [
    "# Define the function to plot the values at a given index\n",
    "def get_risk(a_vals, w_vals, b_vals, alpha_m, index):\n",
    "    a = a_vals[index]\n",
    "    w = w_vals[index]\n",
    "    b = b_vals[index]\n",
    "    \n",
    "    return network_risk(alpha_m, a, w, b, x, y)\n",
    "\n",
    "def generate_risk_plot(m_values, n_steps, learning_rate, scaling_func):\n",
    "\n",
    "    scale_text = inspect.getsource(scaling_func).strip()\n",
    "    scale_text = scale_text[scale_text.find(\":\")+2:-1]\n",
    "\n",
    "    # There could be too many points, so we only take every index_refinment points when needed to increase speed\n",
    "    # About 1 minute for 200k steps, refinement of 50 and m_values = [200, 400, 600, 800, 1000]\n",
    "    index_refinment = 25\n",
    "\n",
    "    # Create an array of indices\n",
    "    indices = np.arange(n_steps/index_refinment)\n",
    "\n",
    "    # Generate a colormap\n",
    "    colormap = cm.get_cmap('viridis', len(m_values))\n",
    "\n",
    "    plt.figure(figsize=(10, 6))\n",
    "\n",
    "    for idx, m in enumerate(m_values):\n",
    "        # Load the arrays from disk\n",
    "        a_values = np.load('weights\\\\a_values_m%d_Learning%d_Steps%d.npy' % (m, learning_rate, n_steps))\n",
    "        w_values = np.load('weights\\\\w_values_m%d_Learning%d_Steps%d.npy' % (m, learning_rate, n_steps))\n",
    "        b_values = np.load('weights\\\\b_values_m%d_Learning%d_Steps%d.npy' % (m, learning_rate, n_steps))\n",
    "\n",
    "        alpha_m = generate_alpha_betas(m)[0]\n",
    "\n",
    "        risk = np.zeros((int)(n_steps/index_refinment))\n",
    "        # Load min and max values obtained by graph at index\n",
    "        for n in range((int)(n_steps/index_refinment)):\n",
    "            risk[n] = get_risk(a_values, w_values, b_values, alpha_m, n*index_refinment)\n",
    "\n",
    "        # Plot the min and max values\n",
    "        plt.plot(indices*scaling_func(m), risk, color=colormap(idx))\n",
    "\n",
    "        # Attach label\n",
    "        plt.plot([], [], color=colormap(idx), label=f'm = {m}')\n",
    "\n",
    "    filename = f'RiskPlot_m{m}_Learning{learning_rate}_Steps{n_steps}_Scale{scale_text}.svg'\n",
    "\n",
    "    # Sanitize the file name by replacing invalid characters\n",
    "    invalid_chars = ['/', '\\\\', ':', '*', '?', '\"', '<', '>', '|']\n",
    "    for char in invalid_chars:\n",
    "        filename = filename.replace(char, \"_\")\n",
    "\n",
    "    plt.xscale('log')\n",
    "    plt.xlabel(f'Index x{index_refinment} with scaling {scale_text}')\n",
    "    plt.ylabel('risk')\n",
    "    plt.title('Risk at index') # TODO: Recheck the text for labels and title\n",
    "    plt.legend()\n",
    "    plt.grid(True)\n",
    "    plt.savefig('figs\\\\'+filename)\n",
    "    plt.show()\n",
    "    print(f'Completed plotting for steps: {n_steps}, learning rate: {learning_rate}, m values: {m_values}, rescale: {scale_text}')"
   ]
  },
  {
   "cell_type": "markdown",
   "metadata": {},
   "source": [
    "Generate and save all weights and graphs"
   ]
  },
  {
   "cell_type": "code",
   "execution_count": 42,
   "metadata": {},
   "outputs": [
    {
     "name": "stderr",
     "output_type": "stream",
     "text": [
      "C:\\Users\\malco\\AppData\\Local\\Temp\\ipykernel_18532\\604210566.py:31: MatplotlibDeprecationWarning: The get_cmap function was deprecated in Matplotlib 3.7 and will be removed two minor releases later. Use ``matplotlib.colormaps[name]`` or ``matplotlib.colormaps.get_cmap(obj)`` instead.\n",
      "  colormap = cm.get_cmap('viridis', len(m_values))\n"
     ]
    },
    {
     "ename": "KeyboardInterrupt",
     "evalue": "",
     "output_type": "error",
     "traceback": [
      "\u001b[1;31m---------------------------------------------------------------------------\u001b[0m",
      "\u001b[1;31mKeyboardInterrupt\u001b[0m                         Traceback (most recent call last)",
      "Cell \u001b[1;32mIn[42], line 19\u001b[0m\n\u001b[0;32m     17\u001b[0m learning_rate \u001b[38;5;241m=\u001b[39m \u001b[38;5;241m4000\u001b[39m\n\u001b[0;32m     18\u001b[0m \u001b[38;5;66;03m# train(m_values, n_steps, learning_rate)\u001b[39;00m\n\u001b[1;32m---> 19\u001b[0m \u001b[43mgen_graphs\u001b[49m\u001b[43m(\u001b[49m\u001b[43mm_values\u001b[49m\u001b[43m,\u001b[49m\u001b[43m \u001b[49m\u001b[43mn_steps\u001b[49m\u001b[43m,\u001b[49m\u001b[43m \u001b[49m\u001b[43mlearning_rate\u001b[49m\u001b[43m)\u001b[49m\n\u001b[0;32m     21\u001b[0m \u001b[38;5;66;03m## Learning rate of 2000\u001b[39;00m\n\u001b[0;32m     23\u001b[0m n_steps \u001b[38;5;241m=\u001b[39m \u001b[38;5;241m250000\u001b[39m\n",
      "Cell \u001b[1;32mIn[42], line 2\u001b[0m, in \u001b[0;36mgen_graphs\u001b[1;34m(m_values, n_steps, learning_rate)\u001b[0m\n\u001b[0;32m      1\u001b[0m \u001b[38;5;28;01mdef\u001b[39;00m \u001b[38;5;21mgen_graphs\u001b[39m(m_values, n_steps, learning_rate):\n\u001b[1;32m----> 2\u001b[0m     \u001b[43mgenerate_y_max_min_plot\u001b[49m\u001b[43m(\u001b[49m\u001b[43mm_values\u001b[49m\u001b[43m,\u001b[49m\u001b[43m \u001b[49m\u001b[43mn_steps\u001b[49m\u001b[43m,\u001b[49m\u001b[43m \u001b[49m\u001b[43mlearning_rate\u001b[49m\u001b[43m,\u001b[49m\u001b[43m \u001b[49m\u001b[38;5;28;43;01mlambda\u001b[39;49;00m\u001b[43m \u001b[49m\u001b[43mm\u001b[49m\u001b[43m:\u001b[49m\u001b[43m \u001b[49m\u001b[38;5;241;43m1\u001b[39;49m\u001b[43m)\u001b[49m\n\u001b[0;32m      3\u001b[0m     generate_y_max_min_plot(m_values, n_steps, learning_rate, \u001b[38;5;28;01mlambda\u001b[39;00m m: (\u001b[38;5;241m1\u001b[39m\u001b[38;5;241m/\u001b[39mm))\n\u001b[0;32m      4\u001b[0m     generate_y_max_min_plot(m_values, n_steps, learning_rate, \u001b[38;5;28;01mlambda\u001b[39;00m m: (\u001b[38;5;241m1\u001b[39m\u001b[38;5;241m/\u001b[39mm)\u001b[38;5;241m*\u001b[39m\u001b[38;5;241m*\u001b[39m\u001b[38;5;241m2\u001b[39m)\n",
      "Cell \u001b[1;32mIn[40], line 47\u001b[0m, in \u001b[0;36mgenerate_y_max_min_plot\u001b[1;34m(m_values, n_steps, learning_rate, scaling_func)\u001b[0m\n\u001b[0;32m     45\u001b[0m \u001b[38;5;66;03m# Load min and max values obtained by graph at index\u001b[39;00m\n\u001b[0;32m     46\u001b[0m \u001b[38;5;28;01mfor\u001b[39;00m n \u001b[38;5;129;01min\u001b[39;00m \u001b[38;5;28mrange\u001b[39m((\u001b[38;5;28mint\u001b[39m)(n_steps\u001b[38;5;241m/\u001b[39mindex_refinment)):\n\u001b[1;32m---> 47\u001b[0m     min_y_values[n], max_y_values[n] \u001b[38;5;241m=\u001b[39m \u001b[43mget_values\u001b[49m\u001b[43m(\u001b[49m\u001b[43mx_graph\u001b[49m\u001b[43m,\u001b[49m\u001b[43m \u001b[49m\u001b[43ma_values\u001b[49m\u001b[43m,\u001b[49m\u001b[43m \u001b[49m\u001b[43mw_values\u001b[49m\u001b[43m,\u001b[49m\u001b[43m \u001b[49m\u001b[43mb_values\u001b[49m\u001b[43m,\u001b[49m\u001b[43m \u001b[49m\u001b[43malpha_m\u001b[49m\u001b[43m,\u001b[49m\u001b[43m \u001b[49m\u001b[43mn\u001b[49m\u001b[38;5;241;43m*\u001b[39;49m\u001b[43mindex_refinment\u001b[49m\u001b[43m)\u001b[49m\n\u001b[0;32m     49\u001b[0m \u001b[38;5;66;03m# Plot the min and max values\u001b[39;00m\n\u001b[0;32m     50\u001b[0m plt\u001b[38;5;241m.\u001b[39mplot(indices\u001b[38;5;241m*\u001b[39mscaling_func(m), min_y_values, color\u001b[38;5;241m=\u001b[39mcolormap(idx))\n",
      "Cell \u001b[1;32mIn[40], line 11\u001b[0m, in \u001b[0;36mget_values\u001b[1;34m(x_graph, a_vals, w_vals, b_vals, alpha_m, index)\u001b[0m\n\u001b[0;32m      9\u001b[0m \u001b[38;5;66;03m# Compute the corresponding y values\u001b[39;00m\n\u001b[0;32m     10\u001b[0m \u001b[38;5;28;01mfor\u001b[39;00m i \u001b[38;5;129;01min\u001b[39;00m \u001b[38;5;28mrange\u001b[39m(\u001b[38;5;28mlen\u001b[39m(x_graph)):\n\u001b[1;32m---> 11\u001b[0m     y_graph[i] \u001b[38;5;241m=\u001b[39m \u001b[43mtwoLayerReluNet\u001b[49m\u001b[43m(\u001b[49m\u001b[43malpha_m\u001b[49m\u001b[43m,\u001b[49m\u001b[43ma\u001b[49m\u001b[43m,\u001b[49m\u001b[43mw\u001b[49m\u001b[43m,\u001b[49m\u001b[43mb\u001b[49m\u001b[43m,\u001b[49m\u001b[43mx_graph\u001b[49m\u001b[43m[\u001b[49m\u001b[43mi\u001b[49m\u001b[43m]\u001b[49m\u001b[43m)\u001b[49m\n\u001b[0;32m     13\u001b[0m \u001b[38;5;28;01mreturn\u001b[39;00m np\u001b[38;5;241m.\u001b[39mmin(y_graph), np\u001b[38;5;241m.\u001b[39mmax(y_graph)\n",
      "Cell \u001b[1;32mIn[35], line 3\u001b[0m, in \u001b[0;36mtwoLayerReluNet\u001b[1;34m(alpha_m, a, w, b, x)\u001b[0m\n\u001b[0;32m      2\u001b[0m \u001b[38;5;28;01mdef\u001b[39;00m \u001b[38;5;21mtwoLayerReluNet\u001b[39m(alpha_m, a, w, b, x):\n\u001b[1;32m----> 3\u001b[0m     \u001b[38;5;28;01mreturn\u001b[39;00m \u001b[38;5;241m1\u001b[39m\u001b[38;5;241m/\u001b[39malpha_m \u001b[38;5;241m*\u001b[39m np\u001b[38;5;241m.\u001b[39msum(a \u001b[38;5;241m*\u001b[39m \u001b[43mrelu\u001b[49m\u001b[43m(\u001b[49m\u001b[43mw\u001b[49m\u001b[43m \u001b[49m\u001b[38;5;241;43m*\u001b[39;49m\u001b[43m \u001b[49m\u001b[43mx\u001b[49m\u001b[43m \u001b[49m\u001b[38;5;241;43m+\u001b[39;49m\u001b[43m \u001b[49m\u001b[43mb\u001b[49m\u001b[43m)\u001b[49m)\n",
      "Cell \u001b[1;32mIn[34], line 1\u001b[0m, in \u001b[0;36mrelu\u001b[1;34m(x)\u001b[0m\n\u001b[1;32m----> 1\u001b[0m \u001b[38;5;28;01mdef\u001b[39;00m \u001b[38;5;21mrelu\u001b[39m(x):\n\u001b[0;32m      2\u001b[0m     \u001b[38;5;28;01mreturn\u001b[39;00m np\u001b[38;5;241m.\u001b[39mmaximum(\u001b[38;5;241m0\u001b[39m, x)\n\u001b[0;32m      4\u001b[0m \u001b[38;5;28;01mdef\u001b[39;00m \u001b[38;5;21mindicator\u001b[39m(condition):\n",
      "\u001b[1;31mKeyboardInterrupt\u001b[0m: "
     ]
    },
    {
     "data": {
      "image/png": "[encoded data removed]",
      "text/plain": [
       "<Figure size 1000x600 with 1 Axes>"
      ]
     },
     "metadata": {},
     "output_type": "display_data"
    }
   ],
   "source": [
    "def gen_graphs(m_values, n_steps, learning_rate):\n",
    "    generate_y_max_min_plot(m_values, n_steps, learning_rate, lambda m: 1)\n",
    "    generate_y_max_min_plot(m_values, n_steps, learning_rate, lambda m: (1/m))\n",
    "    generate_y_max_min_plot(m_values, n_steps, learning_rate, lambda m: (1/m)**2)\n",
    "    generate_y_max_min_plot(m_values, n_steps, learning_rate, lambda m: (1/math.log(m)))\n",
    "\n",
    "    generate_risk_plot(m_values, n_steps, learning_rate, lambda m: 1)\n",
    "    generate_risk_plot(m_values, n_steps, learning_rate, lambda m: (1/m))\n",
    "    generate_risk_plot(m_values, n_steps, learning_rate, lambda m: (1/m)**2)\n",
    "    generate_risk_plot(m_values, n_steps, learning_rate, lambda m: (1/math.log(m)))\n",
    "\n",
    "m_values = np.array([200, 400, 600, 800, 1000])\n",
    "\n",
    "## Learning rate of 4000\n",
    "\n",
    "n_steps = 200000\n",
    "learning_rate = 4000\n",
    "# train(m_values, n_steps, learning_rate)\n",
    "gen_graphs(m_values, n_steps, learning_rate)\n",
    "\n",
    "## Learning rate of 2000\n",
    "\n",
    "n_steps = 250000\n",
    "learning_rate = 2000\n",
    "# train(m_values, n_steps, learning_rate)\n",
    "# gen_graphs(m_values, n_steps, learning_rate)\n",
    "\n",
    "\n",
    "## Learning rate of 1000\n",
    "\n",
    "n_steps = 300000\n",
    "learning_rate = 1000\n",
    "# train(m_values, n_steps, learning_rate)\n",
    "# gen_graphs(m_values, n_steps, learning_rate)\n",
    "\n",
    "\n",
    "## Learning rate of 4000 but very small m\n",
    "\n",
    "m_values = [40, 60, 80, 100, 120]\n",
    "n_steps = 2200\n",
    "learning_rate = 4000\n",
    "# train(m_values, n_steps, learning_rate)\n",
    "# gen_graphs(m_values, n_steps, learning_rate)\n",
    "\n",
    "\n",
    "\n",
    "\n"
   ]
  },
  {
   "cell_type": "markdown",
   "metadata": {},
   "source": [
    "Code Cell generating function development over time - Used for testing analysis"
   ]
  },
  {
   "cell_type": "code",
   "execution_count": 13,
   "metadata": {},
   "outputs": [
    {
     "data": {
      "application/vnd.jupyter.widget-view+json": {
       "model_id": "c9852c9cdf82412fbd933eaefb13331a",
       "version_major": 2,
       "version_minor": 0
      },
      "text/plain": [
       "VBox(children=(Dropdown(description='m', options=(200, 400, 600, 800, 1000), value=200), IntSlider(value=0, de…"
      ]
     },
     "metadata": {},
     "output_type": "display_data"
    }
   ],
   "source": [
    "import numpy as np\n",
    "import matplotlib.pyplot as plt\n",
    "from ipywidgets import interact, IntSlider, Dropdown, VBox\n",
    "\n",
    "# Define the range of x\n",
    "x_graph = np.linspace(-0.5, 0.5, 800)\n",
    "\n",
    "# Global variables to hold the current state\n",
    "current_m = None\n",
    "current_a_values = None\n",
    "current_w_values = None\n",
    "current_b_values = None\n",
    "\n",
    "# Output widget for displaying the plot\n",
    "output = Output()\n",
    "\n",
    "n_steps = 200000\n",
    "learning_rate = 4000\n",
    "\n",
    "def load_data_for_m(m):\n",
    "    \"\"\"Load data for a specific m and keep only the current m's data in memory.\"\"\"\n",
    "    global current_m, current_a_values, current_w_values, current_b_values\n",
    "\n",
    "    # If m has not changed, skip loading\n",
    "    if m == current_m:\n",
    "        return\n",
    "\n",
    "    # Load new data for m\n",
    "    current_a_values = np.load('weights\\\\a_values_m%d_Learning%d_Steps%d.npy' % (m, learning_rate, n_steps))\n",
    "    current_w_values = np.load('weights\\\\w_values_m%d_Learning%d_Steps%d.npy' % (m, learning_rate, n_steps))\n",
    "    current_b_values = np.load('weights\\\\b_values_m%d_Learning%d_Steps%d.npy' % (m, learning_rate, n_steps))\n",
    "    current_m = m\n",
    "\n",
    "def plot_values(m, index):\n",
    "    \"\"\"Plot the function for the selected m and index.\"\"\"\n",
    "    # Ensure data for the selected m is loaded\n",
    "    load_data_for_m(m)\n",
    "    a = current_a_values[index]\n",
    "    w = current_w_values[index]\n",
    "    b = current_b_values[index]\n",
    "\n",
    "    alpha_m = generate_alpha_betas(m)[0]\n",
    "\n",
    "    # Compute the corresponding y values\n",
    "    y_graph = np.array([twoLayerReluNet(alpha_m, a, w, b, x) for x in x_graph])\n",
    "\n",
    "     # Clear the previous plot and create a new one\n",
    "    with output:\n",
    "        output.clear_output(wait=True)\n",
    "        plt.scatter(x, y, c='orange', alpha=0.5, label='Data points')\n",
    "        plt.plot(x_graph, y_graph, label=f'm={m}, index={index}')\n",
    "        plt.xlabel('x')\n",
    "        plt.ylabel('y')\n",
    "        plt.grid(True)\n",
    "        plt.xlim(-0.6, 0.6)\n",
    "        plt.ylim(-0.01, 0.3)\n",
    "        plt.show()\n",
    "\n",
    "# Create dropdown and slider widgets\n",
    "m_dropdown = Dropdown(\n",
    "    options=m_values,  # Update with the range of available m values\n",
    "    value=m_values[0],\n",
    "    description='m',\n",
    ")\n",
    "\n",
    "index_slider = IntSlider(\n",
    "    min=0,\n",
    "    max=0,  # This will be dynamically updated\n",
    "    step=1,\n",
    "    value=0,\n",
    "    description='Index',\n",
    ")\n",
    "\n",
    "# Function to update the slider when m changes\n",
    "def on_m_change(change):\n",
    "    m = change['new']\n",
    "    load_data_for_m(m)\n",
    "    index_slider.max = len(current_a_values) - 1\n",
    "    index_slider.value = 0\n",
    "\n",
    "# Function to update the plot when slider or dropdown changes\n",
    "def on_index_change(change):\n",
    "    plot_values(m_dropdown.value, index_slider.value)\n",
    "\n",
    "# Link dropdown and slider to their respective update functions\n",
    "m_dropdown.observe(on_m_change, names='value')\n",
    "index_slider.observe(on_index_change, names='value')\n",
    "\n",
    "# Display widgets and the output plot\n",
    "display(VBox([m_dropdown, index_slider, output]))\n",
    "\n",
    "# Initialize the plot\n",
    "plot_values(m_dropdown.value, index_slider.value)"
   ]
  },
  {
   "cell_type": "code",
   "execution_count": 14,
   "metadata": {},
   "outputs": [
    {
     "data": {
      "application/vnd.jupyter.widget-view+json": {
       "model_id": "0b3bb56e94274693bffae69ff02a61c6",
       "version_major": 2,
       "version_minor": 0
      },
      "text/plain": [
       "interactive(children=(IntSlider(value=0, description='Index', max=199999), Output()), _dom_classes=('widget-in…"
      ]
     },
     "metadata": {},
     "output_type": "display_data"
    },
    {
     "data": {
      "application/vnd.jupyter.widget-view+json": {
       "model_id": "7bee117d67ac4892967b6221c6e8fb3b",
       "version_major": 2,
       "version_minor": 0
      },
      "text/plain": [
       "Output()"
      ]
     },
     "metadata": {},
     "output_type": "display_data"
    }
   ],
   "source": [
    "# Load new data for m\n",
    "m = 1000\n",
    "learning_rate = 4000\n",
    "n_steps = 200000\n",
    "\n",
    "current_a_values = np.load('weights\\\\a_values_m%d_Learning%d_Steps%d_not_symmetric.npy' % (m, learning_rate, n_steps))\n",
    "current_w_values = np.load('weights\\\\w_values_m%d_Learning%d_Steps%d_not_symmetric.npy' % (m, learning_rate, n_steps))\n",
    "current_b_values = np.load('weights\\\\b_values_m%d_Learning%d_Steps%d_not_symmetric.npy' % (m, learning_rate, n_steps))\n",
    "\n",
    "x_graph = np.linspace(-0.5, 0.5, 800)\n",
    "\n",
    "output = Output()\n",
    "\n",
    "def plot_values(index):\n",
    "    \"\"\"Plot the function for the selected m and index.\"\"\"\n",
    "    # Ensure data for the selected m is loaded\n",
    "\n",
    "    a = current_a_values[index]\n",
    "    w = current_w_values[index]\n",
    "    b = current_b_values[index]\n",
    "\n",
    "    alpha_m = generate_alpha_betas(m)[0]\n",
    "\n",
    "    # Compute the corresponding y values\n",
    "    y_graph = np.array([twoLayerReluNet(alpha_m, a, w, b, x) for x in x_graph])\n",
    "\n",
    "     # Clear the previous plot and create a new one\n",
    "    with output:\n",
    "        output.clear_output(wait=True)\n",
    "        plt.scatter(x, y, c='orange', alpha=0.5, label='Data points')\n",
    "        plt.plot(x_graph, y_graph, label=f'm={m}, index={index}')\n",
    "        plt.xlabel('x')\n",
    "        plt.ylabel('y')\n",
    "        plt.grid(True)\n",
    "        plt.xlim(-0.6, 0.6)\n",
    "        plt.ylim(-0.01, 0.3)\n",
    "        plt.show()\n",
    "\n",
    "# Create a slider for selecting the index\n",
    "slider = IntSlider(min=0, max=len(current_a_values)-1, step=1, value=0, description='Index')\n",
    "\n",
    "# Use interact to create an interactive plot\n",
    "interact(plot_values, index=slider)\n",
    "\n",
    "# Display the output widget\n",
    "display(output)"
   ]
  },
  {
   "cell_type": "code",
   "execution_count": null,
   "metadata": {},
   "outputs": [],
   "source": []
  }
 ],
 "metadata": {
  "kernelspec": {
   "display_name": "Python 3",
   "language": "python",
   "name": "python3"
  },
  "language_info": {
   "codemirror_mode": {
    "name": "ipython",
    "version": 3
   },
   "file_extension": ".py",
   "mimetype": "text/x-python",
   "name": "python",
   "nbconvert_exporter": "python",
   "pygments_lexer": "ipython3",
   "version": "3.10.0"
  }
 },
 "nbformat": 4,
 "nbformat_minor": 2
}
