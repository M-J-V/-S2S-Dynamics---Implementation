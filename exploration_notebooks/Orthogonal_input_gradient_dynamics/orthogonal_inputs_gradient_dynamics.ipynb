{
 "cells": [
  {
   "cell_type": "code",
   "execution_count": 1,
   "metadata": {},
   "outputs": [],
   "source": [
    "import numpy as np\n",
    "import matplotlib.pyplot as plt\n",
    "import matplotlib.cm as cm\n",
    "import math\n",
    "import inspect\n",
    "import os\n",
    "from ipywidgets import interact, IntSlider, Dropdown, VBox, Output\n",
    "from matplotlib.animation import FuncAnimation, HTMLWriter\n"
   ]
  },
  {
   "cell_type": "code",
   "execution_count": 2,
   "metadata": {},
   "outputs": [],
   "source": [
    "d = 2\n",
    "n = 2\n",
    "x = np.array([[-1/2, 1], [2, 1]])\n",
    "# x = np.array([[-1, 1], [2, 1]]) # Not orthogonal but still works\n",
    "y = np.array([-1, 1])\n",
    "\n",
    "# x = np.array([[-3, 1], [2, 1]]) # Not orthogonal but still works\n",
    "# y = np.array([-1, 2])\n",
    "\n",
    "# x = np.array([[-1, 1], [1,1], [2, 1]]) # Very interesting dynamics\n",
    "# y = np.array([-1, 1/2, 1])\n",
    "# y = np.array([-1, 1, 1])\n",
    "\n",
    "# x = np.array([[-1/2, 1], [-1/6,1], [1/6, 1], [1/2, 1]]) \n",
    "# y = np.array([1/4, 1/30, 1/30, 1/4])"
   ]
  },
  {
   "cell_type": "code",
   "execution_count": 3,
   "metadata": {},
   "outputs": [],
   "source": [
    "def relu(x):\n",
    "    return np.maximum(0, x)\n",
    "\n",
    "def indicator(condition):\n",
    "    return condition.astype(int)"
   ]
  },
  {
   "cell_type": "code",
   "execution_count": 4,
   "metadata": {},
   "outputs": [],
   "source": [
    "# 2-Lyaer ReLu Neural Network\n",
    "def twoLayerReluNet(a, w, x):\n",
    "    return np.sum(a[:, np.newaxis] * relu(np.inner(w,x)), axis=0)\n",
    "\n",
    "def loss(a, w, x, y):\n",
    "    return (1/(2*n)) * np.sum((y - twoLayerReluNet(a, w, x))**2)"
   ]
  },
  {
   "cell_type": "code",
   "execution_count": 5,
   "metadata": {},
   "outputs": [],
   "source": [
    "## Typical parameter gradients\n",
    "def gradient_flow(a,w):\n",
    "    \n",
    "    relu_mask = (np.inner(w,x) > 0).astype(float)\n",
    "    Dt = - 1/n * np.sum(((twoLayerReluNet(a, w, x) - y) * relu_mask)[:, :, np.newaxis] * x, axis=1) # Not sure about this one here\n",
    "\n",
    "    grad_a = np.einsum('ij,ij->i', Dt, w) \n",
    "    grad_w = Dt * a[:, np.newaxis]\n",
    "\n",
    "    # m=2 ## REMOVE THIS HEEEEEEEEEEEEEEEEEEEEEERRRRRRRREEEEEEEEEEEEEEEEEEEEEEEE\n",
    "    # Dt = np.zeros((m,d))\n",
    "    # grad_a = np.zeros(m)\n",
    "    # grad_w = np.zeros((m,d))\n",
    "    # for j in range(m):\n",
    "    #     Dt[j] = -1/n * np.sum([((twoLayerReluNet(a, w, x[i]) - y[i]) * (np.inner(w[j],x[i]) > 0).astype(float) * x[i])  for i in range (n)], axis=0)\n",
    "\n",
    "    #     grad_a[j] = np.inner(Dt[j], w[j])\n",
    "    #     grad_w[j] = Dt[j] * a[j]\n",
    " \n",
    "    return grad_a, grad_w\n",
    "\n",
    "def generate_initial_data(lambda_param,m):\n",
    "    mean = np.zeros(d)  # Mean vector with all zeros\n",
    "    cov = np.eye(d)     # Covariance matrix as the identity matrix\n",
    "    g = np.random.multivariate_normal(mean, cov, size=m)  # Generate n samples from the normal distribution\n",
    "    w = lambda_param * g\n",
    "\n",
    "    w_norms = np.linalg.norm(w, axis=1)\n",
    "    s = np.random.choice([-1, 1], size=m)    \n",
    "    a = w_norms * s\n",
    "\n",
    "    return a, w, s"
   ]
  },
  {
   "cell_type": "code",
   "execution_count": 6,
   "metadata": {},
   "outputs": [],
   "source": [
    "def gradient_descent(learning_rate, steps, lambda_param,m):\n",
    "\n",
    "    a, w, s = generate_initial_data(lambda_param,m)\n",
    "\n",
    "    np.save('weights\\\\s_values_m%d_Learning%d_Steps%d.npy' % (m, learning_rate, steps), s)\n",
    "\n",
    "    a_values = []\n",
    "    w_values = []\n",
    "\n",
    "    #for n in range(math.ceil(time/step_size)):\n",
    "    for n in range(steps): \n",
    "        grad_a, grad_w = gradient_flow(a,w)\n",
    "        a = a + learning_rate * grad_a\n",
    "        w = w + learning_rate * grad_w\n",
    "\n",
    "        # Save the current values of a, w, and b\n",
    "        a_values.append(a.copy())\n",
    "        w_values.append(w.copy())\n",
    "\n",
    "    return a_values, w_values"
   ]
  },
  {
   "cell_type": "code",
   "execution_count": 7,
   "metadata": {},
   "outputs": [],
   "source": [
    "#TODO : Check that Assumption 3 holds?"
   ]
  },
  {
   "cell_type": "code",
   "execution_count": 8,
   "metadata": {},
   "outputs": [
    {
     "name": "stdout",
     "output_type": "stream",
     "text": [
      "Completed training for steps: 26000, learning rate: 0.001, m value: 60\n"
     ]
    }
   ],
   "source": [
    "def train(n_steps, learning_rate, lambda_param,m):\n",
    "    a_values, w_values = gradient_descent(learning_rate, n_steps, lambda_param,m)\n",
    "\n",
    "    # Convert lists to arrays for easier saving and plotting\n",
    "    a_values = np.array(a_values)\n",
    "    w_values = np.array(w_values)\n",
    "\n",
    "    # Save the arrays to disk\n",
    "    np.save('weights\\\\a_values_m%d_Learning%d_Steps%d.npy' % (m, learning_rate, n_steps), a_values)\n",
    "    np.save('weights\\\\w_values_m%d_Learning%d_Steps%d.npy' % (m, learning_rate, n_steps), w_values)\n",
    "\n",
    "    print(f'Completed training for steps: {n_steps}, learning rate: {learning_rate}, m value: {m}')\n",
    "\n",
    "m = 60\n",
    "lambda_param = 1e-6 / math.sqrt(m)\n",
    "learning_rate = 1e-3\n",
    "n_steps = 30000\n",
    "\n",
    "train(n_steps, learning_rate, lambda_param,m)"
   ]
  },
  {
   "cell_type": "code",
   "execution_count": null,
   "metadata": {},
   "outputs": [
    {
     "data": {
      "application/vnd.jupyter.widget-view+json": {
       "model_id": "0267b326db2c406fb9fe392358d25d80",
       "version_major": 2,
       "version_minor": 0
      },
      "text/plain": [
       "interactive(children=(IntSlider(value=0, description='Index', max=25999), Output()), _dom_classes=('widget-int…"
      ]
     },
     "metadata": {},
     "output_type": "display_data"
    },
    {
     "data": {
      "application/vnd.jupyter.widget-view+json": {
       "model_id": "ddc482c6d5df4c3e9e9d6b1f7f0114d3",
       "version_major": 2,
       "version_minor": 0
      },
      "text/plain": [
       "Output()"
      ]
     },
     "metadata": {},
     "output_type": "display_data"
    }
   ],
   "source": [
    "\n",
    "current_a_values = np.load('weights\\\\a_values_m%d_Learning%d_Steps%d.npy' % (m, learning_rate, n_steps))\n",
    "current_w_values = np.load('weights\\\\w_values_m%d_Learning%d_Steps%d.npy' % (m, learning_rate, n_steps))\n",
    "current_s_values = np.load('weights\\\\s_values_m%d_Learning%d_Steps%d.npy' % (m, learning_rate, n_steps))\n",
    "\n",
    "# Generate the first coordinate ranging from -3 to 2\n",
    "first_coord = np.linspace(-2, 3, 400)  # This will create an array from -3 to 2 (inclusive)\n",
    "\n",
    "# Generate the second coordinate as an array of ones with the same length as first_coord\n",
    "second_coord = np.ones_like(first_coord)\n",
    "\n",
    "# Combine the two coordinates into a single array\n",
    "x_graph = np.column_stack((first_coord, second_coord))\n",
    "\n",
    "output = Output()\n",
    "\n",
    "def get_weight_plots(w):\n",
    "\n",
    "    weights_x = - w[:,1] / w[:,0]\n",
    "\n",
    "    w_norms = np.linalg.norm(w, axis=1)\n",
    "    weights_y = current_s_values * w_norms\n",
    "\n",
    "    return weights_x, weights_y\n",
    "\n",
    "\n",
    "def plot_values(index):\n",
    "    \"\"\"Plot the function for the selected m and index.\"\"\"\n",
    "    # Ensure data for the selected m is loaded\n",
    "\n",
    "    a = current_a_values[index]\n",
    "    w = current_w_values[index]\n",
    "\n",
    "    # Create the main plot\n",
    "    fig, ax1 = plt.subplots()\n",
    "\n",
    "    # Compute the corresponding y values\n",
    "    y_graph = twoLayerReluNet(a, w, x_graph)\n",
    "    weight_plot_x ,weight_plot_y = get_weight_plots(w)\n",
    "\n",
    "     # Clear the previous plot and create a new one\n",
    "    with output:\n",
    "        output.clear_output(wait=True)\n",
    "        #plt.scatter(x, y, c='orange', alpha=0.5, label='Data points')\n",
    "        ax1.scatter(weight_plot_x, weight_plot_y,c='blue',marker=(5, 1))\n",
    "        ax1.axhline(y=0, color='blue', linestyle='--', linewidth=0.5)\n",
    "        ax1.set_ylim(-0.5,0.4)\n",
    "\n",
    "        ax2 = ax1.twinx()\n",
    "        ax2.scatter(x[:,0], y, c='green', alpha=0.5, label='Data points')\n",
    "        ax2.plot(x_graph[:,0], y_graph, color='green', label=f'm={m}, index={index}', linewidth=1.5)\n",
    "        ax2.grid(True)\n",
    "        ax2.set_xlim(-2, 3)\n",
    "        ax2.set_ylim(-3, 3)\n",
    "        plt.show()\n",
    "\n",
    "# Create a slider for selecting the index\n",
    "slider = IntSlider(min=0, max=len(current_a_values)-1, step=1, value=0, description='Index')\n",
    "\n",
    "# Use interact to create an interactive plot\n",
    "interact(plot_values, index=slider)\n",
    "\n",
    "# Display the output widget\n",
    "display(output)"
   ]
  },
  {
   "cell_type": "code",
   "execution_count": 10,
   "metadata": {},
   "outputs": [
    {
     "name": "stderr",
     "output_type": "stream",
     "text": [
      "No artists with labels found to put in legend.  Note that artists whose label start with an underscore are ignored when legend() is called with no argument.\n"
     ]
    },
    {
     "data": {
      "image/png": "[encoded data removed]",
      "text/plain": [
       "<Figure size 1000x600 with 1 Axes>"
      ]
     },
     "metadata": {},
     "output_type": "display_data"
    }
   ],
   "source": [
    "# Define the function to plot the values at a given index\n",
    "def get_loss(a_vals, w_vals, index):\n",
    "    a = a_vals[index]\n",
    "    w = w_vals[index]\n",
    "    \n",
    "    return loss(a, w, x, y)\n",
    "\n",
    "def generate_loss_plot(n_steps, learning_rate):\n",
    "\n",
    "    # Create an array of indices\n",
    "    indices = np.arange(n_steps)\n",
    "\n",
    "    plt.figure(figsize=(10, 6))\n",
    "\n",
    "    # Load the arrays from disk\n",
    "    a_values = np.load('weights\\\\a_values_m%d_Learning%d_Steps%d.npy' % (m, learning_rate, n_steps))\n",
    "    w_values = np.load('weights\\\\w_values_m%d_Learning%d_Steps%d.npy' % (m, learning_rate, n_steps))\n",
    "\n",
    "    loss = np.zeros((int)(n_steps))\n",
    "    # Load min and max values obtained by graph at index\n",
    "    for n in range((int)(n_steps)):\n",
    "        loss[n] = get_loss(a_values, w_values, n)\n",
    "\n",
    "    # Plot the min and max values\n",
    "    plt.plot(indices, loss)\n",
    "\n",
    "        \n",
    "    #filename = f'LossPlot_M{m}_Learning{learning_rate}_Steps{n_steps}.svg'\n",
    "\n",
    "    plt.xlabel(f'Index')\n",
    "    plt.ylabel('loss')\n",
    "    plt.title('Risk at index') # TODO: Recheck the text for labels and title\n",
    "    plt.legend()\n",
    "    plt.grid(True)\n",
    "    plt.show()\n",
    "\n",
    "generate_loss_plot(n_steps, learning_rate)"
   ]
  },
  {
   "cell_type": "code",
   "execution_count": 11,
   "metadata": {},
   "outputs": [
    {
     "data": {
      "image/png": "[encoded data removed]",
      "text/plain": [
       "<Figure size 640x480 with 2 Axes>"
      ]
     },
     "metadata": {},
     "output_type": "display_data"
    }
   ],
   "source": [
    "current_a_values = np.load('weights\\\\a_values_m%d_Learning%d_Steps%d.npy' % (m, learning_rate, n_steps))\n",
    "current_w_values = np.load('weights\\\\w_values_m%d_Learning%d_Steps%d.npy' % (m, learning_rate, n_steps))\n",
    "current_s_values = np.load('weights\\\\s_values_m%d_Learning%d_Steps%d.npy' % (m, learning_rate, n_steps))\n",
    "\n",
    "# Generate the first coordinate ranging from -3 to 2\n",
    "first_coord = np.linspace(-2, 3, 400)  # This will create an array from -3 to 2 (inclusive)\n",
    "\n",
    "# Generate the second coordinate as an array of ones with the same length as first_coord\n",
    "second_coord = np.ones_like(first_coord)\n",
    "\n",
    "# Combine the two coordinates into a single array\n",
    "x_graph = np.column_stack((first_coord, second_coord))\n",
    "\n",
    "# Create the figure and axes\n",
    "fig, ax1 = plt.subplots()\n",
    "ax2 = ax1.twinx()\n",
    "\n",
    "def update(index):\n",
    "    \"\"\"Update the plot for the given index.\"\"\"\n",
    "    a = current_a_values[index]\n",
    "    w = current_w_values[index]\n",
    "\n",
    "    # Compute the corresponding y values\n",
    "    y_graph = twoLayerReluNet(a, w, x_graph)\n",
    "    weight_plot_x, weight_plot_y = get_weight_plots(w)\n",
    "\n",
    "    # Clear the previous plot and create a new one\n",
    "    ax1.clear()\n",
    "    ax2.clear()\n",
    "\n",
    "    ax1.scatter(weight_plot_x, weight_plot_y, c='blue', marker=(5, 1))\n",
    "    ax1.axhline(y=0, color='blue', linestyle='--', linewidth=0.5)\n",
    "    ax1.set_ylim(-0.5, 0.4)\n",
    "\n",
    "    ax2.scatter(x[:, 0], y, c='green', alpha=0.5, label='Data points')\n",
    "    ax2.plot(x_graph[:,0], y_graph, color='green', label=f'm={m}, index={index}', linewidth=1.5)\n",
    "    ax2.grid(True)\n",
    "    ax2.set_xlim(-2, 3)\n",
    "    ax2.set_ylim(-3, 2)\n",
    "\n",
    "# Set the total duration of the animation (in seconds)\n",
    "total_duration = 30  # 10 seconds\n",
    "\n",
    "# Skip to every 100th frame\n",
    "frame_skip = 100\n",
    "frames = range(0, n_steps, frame_skip)\n",
    "\n",
    "# Calculate the interval between frames (in milliseconds)\n",
    "interval = (total_duration * 1000) / len(frames)\n",
    "\n",
    "# Create the animation\n",
    "ani = FuncAnimation(fig, update, frames=frames, interval=interval, repeat=False)\n",
    "\n",
    "# Create the writer\n",
    "writer = HTMLWriter(fps=30)\n",
    "\n",
    "# Save the animation\n",
    "ani.save('animations\\\\animation.html', writer=writer)\n",
    "\n",
    "# Display the animation\n",
    "plt.show()"
   ]
  },
  {
   "cell_type": "code",
   "execution_count": null,
   "metadata": {},
   "outputs": [],
   "source": []
  }
 ],
 "metadata": {
  "kernelspec": {
   "display_name": "Python 3",
   "language": "python",
   "name": "python3"
  },
  "language_info": {
   "codemirror_mode": {
    "name": "ipython",
    "version": 3
   },
   "file_extension": ".py",
   "mimetype": "text/x-python",
   "name": "python",
   "nbconvert_exporter": "python",
   "pygments_lexer": "ipython3",
   "version": "3.10.0"
  }
 },
 "nbformat": 4,
 "nbformat_minor": 2
}
